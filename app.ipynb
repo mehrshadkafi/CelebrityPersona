{
 "cells": [
  {
   "cell_type": "code",
   "execution_count": null,
   "id": "aa67e403",
   "metadata": {},
   "outputs": [
    {
     "name": "stdout",
     "output_type": "stream",
     "text": [
      " * Serving Flask app '__main__'\n",
      " * Debug mode: on\n"
     ]
    },
    {
     "name": "stderr",
     "output_type": "stream",
     "text": [
      "WARNING: This is a development server. Do not use it in a production deployment. Use a production WSGI server instead.\n",
      " * Running on http://127.0.0.1:5000\n",
      "Press CTRL+C to quit\n"
     ]
    }
   ],
   "source": [
    "from flask import Flask, request, render_template, send_file, Response\n",
    "from transformers import pipeline\n",
    "import requests\n",
    "\n",
    "app = Flask(__name__)\n",
    "\n",
    "# Load your model\n",
    "generator = pipeline('text-generation', model=\"snoop-dogg-model\", tokenizer='gpt2')\n",
    "\n",
    "@app.route('/', methods=['GET'])\n",
    "def home():\n",
    "    # Render a simple form for input\n",
    "    return render_template('index.html')\n",
    "\n",
    "@app.route('/generate', methods=['POST'])\n",
    "def generate():\n",
    "    prompt = request.form['prompt']\n",
    "    texts = generator(prompt, max_length=100, num_return_sequences=1)\n",
    "    \n",
    "    generated_text = texts[0]['generated_text']\n",
    "    \n",
    "    # Convert generated text to speech\n",
    "    response = requests.request(\n",
    "        method=\"POST\",\n",
    "        url=\"https://api.neets.ai/v1/tts\",\n",
    "        headers={\n",
    "            \"Content-Type\": \"application/json\",\n",
    "            \"X-API-Key\": \"c0d9aeeef6f14e98ad46c8d23e24535b\"\n",
    "        },\n",
    "        json={\n",
    "            \"text\": generated_text,\n",
    "            \"voice_id\": \"snoop-dogg\",\n",
    "            \"params\": {\n",
    "                \"model\": \"ar-diff-50k\"\n",
    "            }\n",
    "        }\n",
    "    )\n",
    "    \n",
    "    with open(\"snoop.mp3\", \"wb\") as f:\n",
    "      f.write(response.content)\n",
    "\n",
    "    audio_file = \"snoop.mp3\"\n",
    "\n",
    "    def generate():\n",
    "        with open(audio_file, \"rb\") as fmp3:\n",
    "            data = fmp3.read(1024)\n",
    "            while data:\n",
    "                yield data\n",
    "                data = fmp3.read(1024)\n",
    "\n",
    "    return Response(generate(), mimetype=\"audio/mpeg\")\n",
    "\n",
    "if __name__ == '__main__':\n",
    "    app.run(debug=True, use_reloader=False)"
   ]
  },
  {
   "cell_type": "code",
   "execution_count": 1,
   "id": "bbc9eff5",
   "metadata": {},
   "outputs": [
    {
     "name": "stdout",
     "output_type": "stream",
     "text": [
      "Requirement already satisfied: Flask in /home/mehr/anaconda3/lib/python3.11/site-packages (3.0.2)\n",
      "Requirement already satisfied: Werkzeug in /home/mehr/anaconda3/lib/python3.11/site-packages (3.0.2)\n",
      "Requirement already satisfied: Jinja2>=3.1.2 in /home/mehr/anaconda3/lib/python3.11/site-packages (from Flask) (3.1.2)\n",
      "Requirement already satisfied: itsdangerous>=2.1.2 in /home/mehr/anaconda3/lib/python3.11/site-packages (from Flask) (2.1.2)\n",
      "Requirement already satisfied: click>=8.1.3 in /home/mehr/anaconda3/lib/python3.11/site-packages (from Flask) (8.1.7)\n",
      "Requirement already satisfied: blinker>=1.6.2 in /home/mehr/anaconda3/lib/python3.11/site-packages (from Flask) (1.7.0)\n",
      "Requirement already satisfied: MarkupSafe>=2.1.1 in /home/mehr/anaconda3/lib/python3.11/site-packages (from Werkzeug) (2.1.1)\n"
     ]
    }
   ],
   "source": [
    "!pip install --upgrade Flask Werkzeug\n"
   ]
  },
  {
   "cell_type": "code",
   "execution_count": null,
   "id": "c30be524",
   "metadata": {},
   "outputs": [],
   "source": []
  }
 ],
 "metadata": {
  "kernelspec": {
   "display_name": "Python 3 (ipykernel)",
   "language": "python",
   "name": "python3"
  },
  "language_info": {
   "codemirror_mode": {
    "name": "ipython",
    "version": 3
   },
   "file_extension": ".py",
   "mimetype": "text/x-python",
   "name": "python",
   "nbconvert_exporter": "python",
   "pygments_lexer": "ipython3",
   "version": "3.11.5"
  }
 },
 "nbformat": 4,
 "nbformat_minor": 5
}
